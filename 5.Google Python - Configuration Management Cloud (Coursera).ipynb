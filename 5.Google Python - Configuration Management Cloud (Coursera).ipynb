{
 "cells": [
  {
   "cell_type": "markdown",
   "metadata": {},
   "source": [
    "### Week 2 - Deploying Puppet\n"
   ]
  },
  {
   "cell_type": "markdown",
   "metadata": {},
   "source": [
    "**Deploying Puppet Locally**\n",
    "\n",
    " You've already learned the basics of Puppet resources. We've seen the three most important resources, packages, files, and services.\n",
    " \n",
    "=> Install a package -  puppet apply -v tools.pp\n",
    " => -v -- verbose to tell has what has happend\n",
    " \n",
    "The **catalog** is the list of rules that are generated for one specific computer once the server has evaluated all variables, conditionals, and functions. \n",
    " \n",
    " This is part of Puppet syntax. We write resource types in lowercase when declaring them, but capitalize them when referring to them from another resource's attributes. \n",
    "\n",
    "We need to organize all these resources and information in a way that helps us maintain them long-term. This means grouping related resources, giving the groups good names, and making sure that the organization will make sense to new users. In puppet, we organize our manifests into **modules**. A module is a collection of manifests and associated data. \n",
    "\n",
    "**Deploying Puppet to Clients**\n",
    "**Updating Deployments**"
   ]
  },
  {
   "cell_type": "markdown",
   "metadata": {},
   "source": [
    "### Week 1 - Automating with Configuration Management"
   ]
  },
  {
   "cell_type": "markdown",
   "metadata": {},
   "source": [
    "#### Snippets"
   ]
  },
  {
   "cell_type": "markdown",
   "metadata": {},
   "source": [
    "#### Site Reliability Engineering \n",
    "\n",
    "SRE is focused on the reliability and maintainability of large systems. Job includes a lot of different tasks:\n",
    ">> Collaborating with partner teams on the reliability aspects of a cool new feature, like scheduling emails to send at a later time on G-mail.\n",
    ">> Write software, creating tools that help automate how to manage the service \n",
    ">> Do reasearch for architectural design for a new project.\n",
    ">> On call rotation for service to fix problem or asisgn a person for the fix. \n",
    "\n",
    "##### An Automation technique called -- Configuration Managment\n",
    "    >> Help manage the configuration of computers at scale - learn to use Puppet (current industyr standard for configuration         managment \n",
    "#### Benefits and Challenges of moving services to the Cloud\n",
    "\n",
    "\n",
    "\n"
   ]
  },
  {
   "cell_type": "markdown",
   "metadata": {},
   "source": [
    "##### Configuration Managment\n",
    "\n",
    ">> To automate your configuration managmenet - you need to have a system to handle all of the configuration of the deviced in the computer fleet, also known as nodes --- Configuration Management System\n",
    "\n",
    ">> Typically you'll define a set of rules that have to be applied to the nodes you want to mange and then have a process that ensures that those settings are true on each of the nodes. \n",
    "\n",
    ">> When you use Configuration Management and you need to make a change in one or more computers, you dont manually connect to each computer to perform operations on it. Instead, you edit the configuration management rules and then let the automation apply those rues in the affected machines. \n",
    "\n",
    ">> If a user changes the settings on their machine, the configuration management tooling will detect this change and reapply the settings you defined in code.\n",
    "\n",
    ">> Popular systems include Puppet, Chef, Ansible, and CFEngine. \n",
    "\n",
    "\n",
    ">>> When we use a configuration managment system, we write rules that describe how the computers in our fleet should be configured. These rules are then executed by the automation, to make the computers match our desired state.\n",
    "   >>>> This means that we can model the behavior of our IT infrastructure in **files** that can be processed by automation             tools. These files can then be tracked in a VCS (version control system)\n",
    "   \n",
    "The Paradigm of storing all the configuration for the managed devices in version controlled files is known as Infrastructure as Code of Iac - we are using IaC when all of the configuration necessary to deploy and manage a node in the infrastrucure is stored in version control. \n",
    "\n",
    "Managing your infrastructure as Code, it means that your fleet of nodes are consistent, versioned, reliable, and repeatable. Instead of being seen as precious or unique, machines are treated as replaceable resources that can be deployed on-demand through the automation. "
   ]
  },
  {
   "cell_type": "markdown",
   "metadata": {},
   "source": [
    "#### Puppet \n",
    "\n",
    "Puppet is the current industry standard for managing the configuration of computers in a fleet of machines.\n",
    "\n",
    "Deployment typically is using a client-server architecture.\n",
    "\n",
    "Client is known as the Puppet agent; the service is known as the Puppet Master.\n",
    "\n",
    "Client connects to the master and sends a bunch of facts that describe the computer to the master. Master then processes this information, genertes the list of rules that need to be applied on the device, and sends this list back to the agent. The agent is then in charge of making any necessary changes on the computer\n",
    "\n",
    "**Puppet Resources**\n",
    "In puppet, resources are the basic unit for modeling the configuration that we want to manage.\n",
    "\n",
    "**Provider**\n",
    "The code of each provider is in charge of making our computer reflect the state requested in the resource\n",
    "\n",
    "The providers that we mentioned earlier lake apt and yum are the ones in charge of turning our goals into whatever actions are necessary.\n",
    "\n",
    "What is the advantage of grouping related resources into a single class?\n",
    "\n",
    "\n",
    "To ensure efficiency and convenience for future changes\n"
   ]
  },
  {
   "cell_type": "markdown",
   "metadata": {},
   "source": [
    "**Puppet Classes**\n",
    "We use these classes to collect the resources that are needed to achieve a goal in a single place. For example, you could have a class that installs a package, sets the contents of a configuration file, and starts the service provided by that package.\n"
   ]
  },
  {
   "cell_type": "markdown",
   "metadata": {},
   "source": [
    "class ntp {\n",
    "    package {'ntp': \n",
    "        ensure => latest,\n",
    "    }\n",
    "    file { '/etc/ntp.conf':\n",
    "        source =>  'puppet://modules/ntp/ntp.conf'\n",
    "        replace => true,\n",
    "    }\n",
    "    service {'ntp':\n",
    "        enable => true,\n",
    "        ensure => running,\n",
    "    }\n",
    "}\n"
   ]
  },
  {
   "cell_type": "markdown",
   "metadata": {},
   "source": [
    "**A domain specific language (DSL)** is a programming language that's more limited in scope. \n",
    "\n",
    "Learning a domain-specific language is usually much faster and easier than learning a general purpose programming language because there's a lot less to cover. You don't need to learn as much syntax or understand as many keywords or taking to account a lot of overhead in general. \n",
    "\n",
    "In the case of Puppet, the DSL is limited to operations related to when and how to apply configuration management rules to our devices. For example, we can use the mechanisms provided by the DSL to set different values on laptops or desktop computers, or to install some specific packages only on the company's web servers. \n",
    "\n",
    "On top of the basic resource types that we already checked out, Puppet's DSL includes variables, conditional statements, and functions. Using them, we can apply different resources or set attributes to different values depending on some conditions."
   ]
  },
  {
   "cell_type": "markdown",
   "metadata": {},
   "source": [
    "**Facts** are variables that represent the characteristics of the system. When the Puppet agent runs, it calls a program called factor which analyzes the current system, storing the information it gathers in these facts.\n",
    "\n",
    "if $facts['is_virtual'] {\n",
    "    package {'smartmontools' :\n",
    "        ensure => purged,\n",
    "    }\n",
    "    \n",
    "} else {\n",
    "    package{ 'smartmontools':\n",
    "        ensure => installed,\n",
    "    \n",
    "    }\n",
    "}"
   ]
  },
  {
   "cell_type": "markdown",
   "metadata": {},
   "source": [
    "**Above Syntax**  \n",
    "We've seen resources before, but we haven't looked at the syntax in detail. So let's do that now. Every resource starts with the type of resource being defined. In this case, package and the contents of the resource are then enclosed in curly braces. Inside the resource definition, the first line contains the title followed by a colon. Any lines after that are attributes that are being set. We use equals greater than to assign values to the attributes and then each attribute ends with a comma. We've now covered a large chunk of puppet's DSL syntax. "
   ]
  },
  {
   "cell_type": "markdown",
   "metadata": {},
   "source": [
    "We say that Puppet uses a **declarative language** because *we declare the state that we want to achieve* rather than the steps to get there. Traditional languages like Python or C are called procedural because we write out the procedure that the computer needs to follow to reach our desired goal. \n",
    "\n",
    "Coming from a procedural language like Python, it might take some time to get used to writing declarative code like the ones used for Puppet, and that's okay. Just remember that when it comes to configuration management, it makes sense to simply state what the configuration should be, not what the computer should do to get there. \n",
    "\n",
    "Say you're using a resource to declare that you want a package installed, you don't care what commands a computer has to run you install it, you only care that after the configuration management tool has run, the package is installed. \n",
    "\n",
    "Another important aspect of configuration management is that operations should be **idempotent**. In this con*text, an idempotent action can be performed over and over again without changing the system after the first time the action was performed, and with no unintended side effects.*"
   ]
  },
  {
   "cell_type": "markdown",
   "metadata": {},
   "source": [
    "Review\n",
    "\n",
    "We've talked about the automation that's necessary for provisioning, managing and adapting a fleet of computers in a scalable way. We called out that an important concept in today's IT world is to treat our **infrastructure as code**. This lets us manage our fleet of computers in a consistent, versionable, reliable and repeatable way. \n",
    "\n",
    "We looked into the puppet DSL syntax and checked out the most common resources: packages, files and services."
   ]
  }
 ],
 "metadata": {
  "kernelspec": {
   "display_name": "Python 3",
   "language": "python",
   "name": "python3"
  },
  "language_info": {
   "codemirror_mode": {
    "name": "ipython",
    "version": 3
   },
   "file_extension": ".py",
   "mimetype": "text/x-python",
   "name": "python",
   "nbconvert_exporter": "python",
   "pygments_lexer": "ipython3",
   "version": "3.7.4"
  }
 },
 "nbformat": 4,
 "nbformat_minor": 2
}
